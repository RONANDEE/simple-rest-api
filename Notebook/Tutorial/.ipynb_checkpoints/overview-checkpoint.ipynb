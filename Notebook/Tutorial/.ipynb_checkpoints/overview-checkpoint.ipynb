{
 "cells": [
  {
   "cell_type": "markdown",
   "id": "eb45afbb-2a1c-44d0-ac32-30093727fcbb",
   "metadata": {
    "tags": []
   },
   "source": [
    "# Intro to Data Science"
   ]
  },
  {
   "cell_type": "code",
   "execution_count": null,
   "id": "da25f3be-1de2-44bb-9df0-b59f39060c1c",
   "metadata": {},
   "outputs": [],
   "source": [
    "import numpy as np\n",
    "import matplotlib.pyplot as plt\n"
   ]
  },
  {
   "cell_type": "code",
   "execution_count": 11,
   "id": "15c7a548-42ee-4287-b2f1-d6f8a37bf0da",
   "metadata": {},
   "outputs": [
    {
     "data": {
      "text/plain": [
       "100"
      ]
     },
     "execution_count": 11,
     "metadata": {},
     "output_type": "execute_result"
    }
   ],
   "source": [
    "2 * 50"
   ]
  },
  {
   "cell_type": "markdown",
   "id": "aba14691-0b8f-4af8-9322-3032ad0416de",
   "metadata": {},
   "source": [
    "$$\n",
    "a_2\n",
    "\\\\\n",
    "a^{17}\n",
    "$$"
   ]
  },
  {
   "cell_type": "markdown",
   "id": "cbd5095d-0b59-4243-9fb7-31f39735c46f",
   "metadata": {},
   "source": [
    "$$\n",
    "\\bar x\n",
    "$$"
   ]
  },
  {
   "cell_type": "markdown",
   "id": "95bb7c31-2ab3-4549-bd55-1d86aa1bd821",
   "metadata": {},
   "source": [
    "# LaTex math equation"
   ]
  },
  {
   "cell_type": "markdown",
   "id": "b1bd50c4-50f5-4a65-8a55-dbd53f887f5b",
   "metadata": {},
   "source": [
    "$$\n",
    "f(x)=2x+5\n",
    "$$"
   ]
  },
  {
   "cell_type": "markdown",
   "id": "d2162391-2d9f-44fc-b33e-f183fb98c7ef",
   "metadata": {},
   "source": [
    "$$\n",
    "f(x)=ax^2+bx+c\n",
    "$$"
   ]
  },
  {
   "cell_type": "markdown",
   "id": "56fde89c-69ec-4463-b231-151e9c58eccc",
   "metadata": {},
   "source": [
    "$$\n",
    "\\frac{1}{2}\n",
    "$$"
   ]
  },
  {
   "cell_type": "markdown",
   "id": "b7c16c99-554f-489c-a37a-6cc4c3f70bcf",
   "metadata": {},
   "source": [
    "# LaTex Matrix"
   ]
  },
  {
   "cell_type": "markdown",
   "id": "19b7dd7b-1023-4f37-b918-7fdf879adc7e",
   "metadata": {},
   "source": [
    "$$\n",
    "A=\\begin{pmatrix}\n",
    "1&2&3\\\\\n",
    "3&2&4\n",
    "\\end{pmatrix}\n",
    "$$"
   ]
  },
  {
   "cell_type": "markdown",
   "id": "77453747-f36c-4ed5-a4d7-78dc94a2ca79",
   "metadata": {},
   "source": [
    "$$\n",
    "A=\\begin{vmatrix}\n",
    "1&2&3\\\\\n",
    "3&2&4\n",
    "\\end{vmatrix}\n",
    "$$"
   ]
  },
  {
   "cell_type": "markdown",
   "id": "538a5964-9ddd-48d6-8e14-58ea0a5e0a9d",
   "metadata": {},
   "source": [
    "$$\n",
    "A=\\begin{bmatrix}\n",
    "1&2&3\\\\\n",
    "3&2&4\n",
    "\\end{bmatrix}\n",
    "$$"
   ]
  },
  {
   "cell_type": "markdown",
   "id": "cb960e42-11d4-4646-b1f7-1303b405e227",
   "metadata": {},
   "source": [
    "$$\n",
    "\\begin{bmatrix}\n",
    "1&2&3\\\\\n",
    "3&2&4\n",
    "\\end{bmatrix}\n",
    "\\times\n",
    "\\begin{bmatrix}\n",
    "1&2&3\\\\\n",
    "3&2&4\n",
    "\\end{bmatrix}\n",
    "$$"
   ]
  }
 ],
 "metadata": {
  "kernelspec": {
   "display_name": "Python 3 (ipykernel)",
   "language": "python",
   "name": "python3"
  },
  "language_info": {
   "codemirror_mode": {
    "name": "ipython",
    "version": 3
   },
   "file_extension": ".py",
   "mimetype": "text/x-python",
   "name": "python",
   "nbconvert_exporter": "python",
   "pygments_lexer": "ipython3",
   "version": "3.10.6"
  },
  "toc-autonumbering": false,
  "toc-showcode": false
 },
 "nbformat": 4,
 "nbformat_minor": 5
}
