{
 "cells": [
  {
   "cell_type": "code",
   "execution_count": 2,
   "id": "9ff5bef5-5cac-46bf-bd95-307e7b6afd7b",
   "metadata": {},
   "outputs": [],
   "source": [
    "import numpy as np\n"
   ]
  },
  {
   "cell_type": "code",
   "execution_count": 3,
   "id": "be6c217a-7556-4015-9b66-32ffb4d3a106",
   "metadata": {},
   "outputs": [],
   "source": [
    "thai_id = \"110123456789\""
   ]
  },
  {
   "cell_type": "code",
   "execution_count": 4,
   "id": "a9155975-748c-4adb-be5a-246d130ecff7",
   "metadata": {},
   "outputs": [
    {
     "data": {
      "text/plain": [
       "['1', '1', '0', '1', '2', '3', '4', '5', '6', '7', '8', '9']"
      ]
     },
     "execution_count": 4,
     "metadata": {},
     "output_type": "execute_result"
    }
   ],
   "source": [
    "list(thai_id[:12])"
   ]
  },
  {
   "cell_type": "code",
   "execution_count": 6,
   "id": "585603cb-7b8b-44bf-8f38-b6f608485bdb",
   "metadata": {},
   "outputs": [
    {
     "data": {
      "text/plain": [
       "array([1, 1, 0, 1, 2, 3, 4, 5, 6, 7, 8, 9])"
      ]
     },
     "execution_count": 6,
     "metadata": {},
     "output_type": "execute_result"
    }
   ],
   "source": [
    "a = np.array(list(thai_id[:12]),dtype=int)\n",
    "a"
   ]
  },
  {
   "cell_type": "code",
   "execution_count": 11,
   "id": "644d736a-8e55-4b72-9517-583b978af307",
   "metadata": {},
   "outputs": [
    {
     "data": {
      "text/plain": [
       "array([13, 12, 11, 10,  9,  8,  7,  6,  5,  4,  3,  2])"
      ]
     },
     "execution_count": 11,
     "metadata": {},
     "output_type": "execute_result"
    }
   ],
   "source": [
    "b =  np.arange(13,1,-1)\n",
    "b"
   ]
  },
  {
   "cell_type": "code",
   "execution_count": 14,
   "id": "db941f63-774d-4e89-bc23-b200013cf7a6",
   "metadata": {},
   "outputs": [
    {
     "data": {
      "text/plain": [
       "4"
      ]
     },
     "execution_count": 14,
     "metadata": {},
     "output_type": "execute_result"
    }
   ],
   "source": [
    "x = np.sum(a*b) % 7\n",
    "x"
   ]
  },
  {
   "cell_type": "code",
   "execution_count": 15,
   "id": "c3887b52-15ff-4b20-9752-46897aab4697",
   "metadata": {},
   "outputs": [
    {
     "data": {
      "text/plain": [
       "7"
      ]
     },
     "execution_count": 15,
     "metadata": {},
     "output_type": "execute_result"
    }
   ],
   "source": [
    "1 - x if x <= 1 else 11 -x"
   ]
  },
  {
   "cell_type": "code",
   "execution_count": 17,
   "id": "e219931c-c62d-4973-b5a6-97e8ddd1cf2e",
   "metadata": {},
   "outputs": [
    {
     "data": {
      "text/plain": [
       "242"
      ]
     },
     "execution_count": 17,
     "metadata": {},
     "output_type": "execute_result"
    }
   ],
   "source": [
    "np.sum(a*b) + 7"
   ]
  },
  {
   "cell_type": "code",
   "execution_count": 18,
   "id": "d6b88d7a-1a30-4fe0-af34-17f324f832aa",
   "metadata": {},
   "outputs": [
    {
     "data": {
      "text/plain": [
       "0"
      ]
     },
     "execution_count": 18,
     "metadata": {},
     "output_type": "execute_result"
    }
   ],
   "source": [
    "242 % 11"
   ]
  },
  {
   "cell_type": "code",
   "execution_count": 24,
   "id": "e194924c-a48c-47c6-a3e7-ba62c51803bf",
   "metadata": {},
   "outputs": [],
   "source": [
    "def thai_id_check_digit(thai_id):\n",
    "    a = np.array(list(thai_id[:12]),dtype=int)\n",
    "    b = np.arange(13,1,-1)\n",
    "    x=np.sum(a*b) % 11\n",
    "    return 1 - x if x <= 1 else 11 -x"
   ]
  },
  {
   "cell_type": "code",
   "execution_count": 26,
   "id": "36c6b2bc-c9e4-44cc-98fc-44fed1ed2ace",
   "metadata": {},
   "outputs": [
    {
     "data": {
      "text/plain": [
       "1"
      ]
     },
     "execution_count": 26,
     "metadata": {},
     "output_type": "execute_result"
    }
   ],
   "source": [
    "thai_id_check_digit('1670600108221')"
   ]
  },
  {
   "cell_type": "code",
   "execution_count": null,
   "id": "951612ca-3648-4a9a-a65d-1c6d69fee05e",
   "metadata": {},
   "outputs": [],
   "source": []
  }
 ],
 "metadata": {
  "kernelspec": {
   "display_name": "Python 3 (ipykernel)",
   "language": "python",
   "name": "python3"
  },
  "language_info": {
   "codemirror_mode": {
    "name": "ipython",
    "version": 3
   },
   "file_extension": ".py",
   "mimetype": "text/x-python",
   "name": "python",
   "nbconvert_exporter": "python",
   "pygments_lexer": "ipython3",
   "version": "3.10.6"
  },
  "widgets": {
   "application/vnd.jupyter.widget-state+json": {
    "state": {},
    "version_major": 2,
    "version_minor": 0
   }
  }
 },
 "nbformat": 4,
 "nbformat_minor": 5
}
