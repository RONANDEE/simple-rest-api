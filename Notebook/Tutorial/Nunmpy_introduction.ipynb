{
 "cells": [
  {
   "cell_type": "code",
   "execution_count": 1,
   "id": "b420ced8-b92c-4469-9436-228020b45aad",
   "metadata": {},
   "outputs": [
    {
     "name": "stdout",
     "output_type": "stream",
     "text": [
      "numpy version = 1.23.3\n"
     ]
    }
   ],
   "source": [
    "import numpy as np\n",
    "print(f'numpy version = {np.__version__}')"
   ]
  },
  {
   "cell_type": "code",
   "execution_count": 2,
   "id": "22c0af65-f51d-4441-a0cb-297396829272",
   "metadata": {},
   "outputs": [
    {
     "data": {
      "text/plain": [
       "array([70, 48, 90, 52, 60])"
      ]
     },
     "execution_count": 2,
     "metadata": {},
     "output_type": "execute_result"
    }
   ],
   "source": [
    "w = np.array([70,48,90,52,60])\n",
    "w"
   ]
  },
  {
   "cell_type": "code",
   "execution_count": 6,
   "id": "8de63f32-6cf4-4ff5-837a-60d5b37fc993",
   "metadata": {},
   "outputs": [
    {
     "data": {
      "text/plain": [
       "320"
      ]
     },
     "execution_count": 6,
     "metadata": {},
     "output_type": "execute_result"
    }
   ],
   "source": [
    "np.sum(w)"
   ]
  },
  {
   "cell_type": "code",
   "execution_count": 5,
   "id": "919c2843-c8fb-45be-b26a-33ea4c641118",
   "metadata": {},
   "outputs": [
    {
     "data": {
      "text/plain": [
       "64.0"
      ]
     },
     "execution_count": 5,
     "metadata": {},
     "output_type": "execute_result"
    }
   ],
   "source": [
    "np.mean(w)"
   ]
  },
  {
   "cell_type": "code",
   "execution_count": 10,
   "id": "27804f4f-6190-4f1e-8efd-4538bcc11415",
   "metadata": {},
   "outputs": [],
   "source": [
    "h=np.array([175,168,182,1170,175])"
   ]
  },
  {
   "cell_type": "code",
   "execution_count": 12,
   "id": "2f9d49ce-16cb-4c85-bb97-52a9c8d1ac54",
   "metadata": {},
   "outputs": [
    {
     "data": {
      "text/plain": [
       "array([22.85714286, 17.00680272, 27.17063157,  0.37986705, 19.59183673])"
      ]
     },
     "execution_count": 12,
     "metadata": {},
     "output_type": "execute_result"
    }
   ],
   "source": [
    "bmi= w / (h/100)**2\n",
    "bmi"
   ]
  },
  {
   "cell_type": "code",
   "execution_count": 15,
   "id": "ae0141bc-3b38-4574-85a3-0dfe3a954126",
   "metadata": {},
   "outputs": [],
   "source": [
    "usd = [10, 20, 100]"
   ]
  },
  {
   "cell_type": "code",
   "execution_count": 17,
   "id": "d6a53fec-9b7d-4aba-b2ac-62bc4eba9c49",
   "metadata": {},
   "outputs": [
    {
     "data": {
      "text/plain": [
       "[350, 700, 3500]"
      ]
     },
     "execution_count": 17,
     "metadata": {},
     "output_type": "execute_result"
    }
   ],
   "source": [
    "t = []\n",
    "for u in usd:\n",
    "    t.append(u*35)\n",
    "t"
   ]
  },
  {
   "cell_type": "code",
   "execution_count": null,
   "id": "3b218f22-e25d-4390-880b-fb708c90ad25",
   "metadata": {},
   "outputs": [],
   "source": []
  }
 ],
 "metadata": {
  "kernelspec": {
   "display_name": "Python 3 (ipykernel)",
   "language": "python",
   "name": "python3"
  },
  "language_info": {
   "codemirror_mode": {
    "name": "ipython",
    "version": 3
   },
   "file_extension": ".py",
   "mimetype": "text/x-python",
   "name": "python",
   "nbconvert_exporter": "python",
   "pygments_lexer": "ipython3",
   "version": "3.10.6"
  },
  "widgets": {
   "application/vnd.jupyter.widget-state+json": {
    "state": {},
    "version_major": 2,
    "version_minor": 0
   }
  }
 },
 "nbformat": 4,
 "nbformat_minor": 5
}
