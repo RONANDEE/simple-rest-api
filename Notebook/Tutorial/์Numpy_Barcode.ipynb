{
 "cells": [
  {
   "cell_type": "code",
   "execution_count": 9,
   "id": "e887aa59-62c1-463b-ba29-ba35d829b75f",
   "metadata": {},
   "outputs": [],
   "source": [
    "import numpy as np"
   ]
  },
  {
   "cell_type": "code",
   "execution_count": 10,
   "id": "d856fece-191f-4d82-8645-83e0c7192532",
   "metadata": {},
   "outputs": [],
   "source": [
    "ean13 = '400638133393x'"
   ]
  },
  {
   "cell_type": "code",
   "execution_count": 12,
   "id": "4f20400b-57e4-424a-a9bb-ea69874a8989",
   "metadata": {},
   "outputs": [
    {
     "data": {
      "text/plain": [
       "['4', '0', '0', '6', '3', '8', '1', '3', '3', '3', '9', '3']"
      ]
     },
     "execution_count": 12,
     "metadata": {},
     "output_type": "execute_result"
    }
   ],
   "source": [
    "list(ean13[:12])"
   ]
  },
  {
   "cell_type": "code",
   "execution_count": 14,
   "id": "c8a348ca-de89-48f8-ad69-5046292d1d5d",
   "metadata": {},
   "outputs": [
    {
     "data": {
      "text/plain": [
       "array([4, 0, 0, 6, 3, 8, 1, 3, 3, 3, 9, 3])"
      ]
     },
     "execution_count": 14,
     "metadata": {},
     "output_type": "execute_result"
    }
   ],
   "source": [
    "a = np.array(list(ean13[:12]),dtype = int)\n",
    "a"
   ]
  },
  {
   "cell_type": "code",
   "execution_count": null,
   "id": "0ab730f3-86cd-4546-a1a6-9b4758303f7b",
   "metadata": {},
   "outputs": [],
   "source": []
  }
 ],
 "metadata": {
  "kernelspec": {
   "display_name": "Python 3 (ipykernel)",
   "language": "python",
   "name": "python3"
  },
  "language_info": {
   "codemirror_mode": {
    "name": "ipython",
    "version": 3
   },
   "file_extension": ".py",
   "mimetype": "text/x-python",
   "name": "python",
   "nbconvert_exporter": "python",
   "pygments_lexer": "ipython3",
   "version": "3.10.6"
  },
  "widgets": {
   "application/vnd.jupyter.widget-state+json": {
    "state": {},
    "version_major": 2,
    "version_minor": 0
   }
  }
 },
 "nbformat": 4,
 "nbformat_minor": 5
}
