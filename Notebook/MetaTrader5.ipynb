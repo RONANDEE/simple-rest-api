{
 "cells": [
  {
   "cell_type": "code",
   "execution_count": null,
   "metadata": {},
   "outputs": [],
   "source": [
    "pip install MetaTrader5"
   ]
  },
  {
   "cell_type": "code",
   "execution_count": 5,
   "metadata": {},
   "outputs": [
    {
     "name": "stdout",
     "output_type": "stream",
     "text": [
      "Requirement already up-to-date: MetaTrader5 in c:\\users\\ronan\\anaconda3\\lib\\site-packages (5.0.34)\n",
      "Requirement already satisfied, skipping upgrade: numpy>=1.7 in c:\\users\\ronan\\anaconda3\\lib\\site-packages (from MetaTrader5) (1.19.1)\n",
      "Note: you may need to restart the kernel to use updated packages.\n"
     ]
    }
   ],
   "source": [
    "pip install --upgrade MetaTrader5"
   ]
  },
  {
   "cell_type": "code",
   "execution_count": 1,
   "metadata": {},
   "outputs": [],
   "source": [
    "from datetime import datetime\n",
    "import matplotlib.pyplot as plt\n",
    "import pandas as pd\n",
    "from pandas.plotting import register_matplotlib_converters\n",
    "register_matplotlib_converters()\n",
    "import MetaTrader5 as mt5"
   ]
  },
  {
   "cell_type": "code",
   "execution_count": 2,
   "metadata": {},
   "outputs": [
    {
     "name": "stdout",
     "output_type": "stream",
     "text": [
      "initialize() failed\n"
     ]
    }
   ],
   "source": [
    " # connect to MetaTrader 5\n",
    "if not mt5.initialize():\n",
    "    print(\"initialize() failed\")\n",
    "    mt5.shutdown()\n",
    " "
   ]
  },
  {
   "cell_type": "code",
   "execution_count": 3,
   "metadata": {},
   "outputs": [
    {
     "name": "stdout",
     "output_type": "stream",
     "text": [
      "None\n",
      "(0, 0, '')\n"
     ]
    },
    {
     "data": {
      "text/plain": [
       "True"
      ]
     },
     "execution_count": 3,
     "metadata": {},
     "output_type": "execute_result"
    }
   ],
   "source": [
    "# request connection status and parameters\n",
    "print(mt5.terminal_info())\n",
    "# get data on MetaTrader 5 version\n",
    "print(mt5.version())\n",
    " \n",
    "# request 1000 ticks from EURAUD\n",
    "euraud_ticks = mt5.copy_ticks_from(\"EURAUD\", datetime(2020,1,28,13), 1000, mt5.COPY_TICKS_ALL)\n",
    "# request ticks from AUDUSD within 2019.04.01 13:00 - 2019.04.02 13:00\n",
    "audusd_ticks = mt5.copy_ticks_range(\"AUDUSD\", datetime(2020,1,27,13), datetime(2020,1,28,13), mt5.COPY_TICKS_ALL)\n",
    " \n",
    "# get bars from different symbols in a number of ways\n",
    "eurusd_rates = mt5.copy_rates_from(\"EURUSD\", mt5.TIMEFRAME_M1, datetime(2020,1,28,13), 1000)\n",
    "eurgbp_rates = mt5.copy_rates_from_pos(\"EURGBP\", mt5.TIMEFRAME_M1, 0, 1000)\n",
    "eurcad_rates = mt5.copy_rates_range(\"EURCAD\", mt5.TIMEFRAME_M1, datetime(2020,1,27,13), datetime(2020,1,28,13))\n",
    " \n",
    "# shut down connection to MetaTrader 5\n",
    "mt5.shutdown()\n",
    " "
   ]
  },
  {
   "cell_type": "code",
   "execution_count": 5,
   "metadata": {},
   "outputs": [
    {
     "ename": "TypeError",
     "evalue": "object of type 'NoneType' has no len()",
     "output_type": "error",
     "traceback": [
      "\u001b[1;31m---------------------------------------------------------------------------\u001b[0m",
      "\u001b[1;31mTypeError\u001b[0m                                 Traceback (most recent call last)",
      "Cell \u001b[1;32mIn [5], line 2\u001b[0m\n\u001b[0;32m      1\u001b[0m \u001b[38;5;66;03m#DATA\u001b[39;00m\n\u001b[1;32m----> 2\u001b[0m \u001b[38;5;28mprint\u001b[39m(\u001b[38;5;124m'\u001b[39m\u001b[38;5;124meuraud_ticks(\u001b[39m\u001b[38;5;124m'\u001b[39m, \u001b[38;5;28;43mlen\u001b[39;49m\u001b[43m(\u001b[49m\u001b[43meuraud_ticks\u001b[49m\u001b[43m)\u001b[49m, \u001b[38;5;124m'\u001b[39m\u001b[38;5;124m)\u001b[39m\u001b[38;5;124m'\u001b[39m)\n\u001b[0;32m      3\u001b[0m \u001b[38;5;28;01mfor\u001b[39;00m val \u001b[38;5;129;01min\u001b[39;00m euraud_ticks[:\u001b[38;5;241m10\u001b[39m]: \u001b[38;5;28mprint\u001b[39m(val)\n\u001b[0;32m      5\u001b[0m \u001b[38;5;28mprint\u001b[39m(\u001b[38;5;124m'\u001b[39m\u001b[38;5;124maudusd_ticks(\u001b[39m\u001b[38;5;124m'\u001b[39m, \u001b[38;5;28mlen\u001b[39m(audusd_ticks), \u001b[38;5;124m'\u001b[39m\u001b[38;5;124m)\u001b[39m\u001b[38;5;124m'\u001b[39m)\n",
      "\u001b[1;31mTypeError\u001b[0m: object of type 'NoneType' has no len()"
     ]
    }
   ],
   "source": [
    "#DATA\n",
    "print('euraud_ticks(', len(euraud_ticks), ')')\n",
    "for val in euraud_ticks[:10]: print(val)\n",
    " \n",
    "print('audusd_ticks(', len(audusd_ticks), ')')\n",
    "for val in audusd_ticks[:10]: print(val)\n",
    " \n",
    "print('eurusd_rates(', len(eurusd_rates), ')')\n",
    "for val in eurusd_rates[:10]: print(val)\n",
    " \n",
    "print('eurgbp_rates(', len(eurgbp_rates), ')')\n",
    "for val in eurgbp_rates[:10]: print(val)\n",
    " \n",
    "print('eurcad_rates(', len(eurcad_rates), ')')\n",
    "for val in eurcad_rates[:10]: print(val)\n",
    " "
   ]
  },
  {
   "cell_type": "code",
   "execution_count": null,
   "metadata": {},
   "outputs": [],
   "source": [
    "#PLOT\n",
    "# create DataFrame out of the obtained data\n",
    "ticks_frame = pd.DataFrame(euraud_ticks)\n",
    "# convert time in seconds into the datetime format\n",
    "ticks_frame['time']=pd.to_datetime(ticks_frame['time'], unit='s')\n",
    "# display ticks on the chart\n",
    "plt.plot(ticks_frame['time'], ticks_frame['ask'], 'r-', label='ask')\n",
    "plt.plot(ticks_frame['time'], ticks_frame['bid'], 'b-', label='bid')\n",
    " \n",
    "# display the legends\n",
    "plt.legend(loc='upper left')\n",
    " \n",
    "# add the header\n",
    "plt.title('EURAUD ticks')\n",
    " \n",
    "# display the chart\n",
    "plt.show()"
   ]
  },
  {
   "cell_type": "code",
   "execution_count": null,
   "metadata": {},
   "outputs": [],
   "source": [
    "import MetaTrader5 as mt5\n",
    "import pandas as pd\n",
    "# display data on the MetaTrader 5 package\n",
    "print(\"MetaTrader5 package author: \",mt5.__author__)\n",
    "print(\"MetaTrader5 package version: \",mt5.__version__)\n",
    " \n",
    "# establish connection to the MetaTrader 5 terminal\n",
    "if not mt5.initialize():\n",
    "    print(\"initialize() failed, error code =\",mt5.last_error())\n",
    "    quit()\n",
    " \n",
    "# display data on MetaTrader 5 version\n",
    "print(mt5.version())\n",
    " \n",
    "# display data on connection status, server name and trading account 'as is'\n",
    "print(mt5.terminal_info())\n",
    "print()\n",
    " \n",
    "# get properties in the form of a dictionary\n",
    "terminal_info_dict=mt5.terminal_info()._asdict()\n",
    "# convert the dictionary into DataFrame and print\n",
    "df=pd.DataFrame(list(terminal_info_dict.items()),columns=['property','value'])\n",
    "print(\"terminal_info() as dataframe:\")\n",
    "print(df[:-1])\n",
    " \n",
    "# shut down connection to the MetaTrader 5 terminal\n",
    "mt5.shutdown()"
   ]
  },
  {
   "cell_type": "code",
   "execution_count": null,
   "metadata": {},
   "outputs": [],
   "source": [
    "import MetaTrader5 as mt5\n",
    "# display data on the MetaTrader 5 package\n",
    "print(\"MetaTrader5 package author: \",mt5.__author__)\n",
    "print(\"MetaTrader5 package version: \",mt5.__version__)\n",
    " \n",
    "# establish connection to MetaTrader 5 terminal\n",
    "if not mt5.initialize():\n",
    "    print(\"initialize() failed, error code =\",mt5.last_error())\n",
    "    quit()\n",
    " \n",
    "# check the presence of open positions\n",
    "positions_total=mt5.positions_total()\n",
    "if positions_total>0:\n",
    "    print(\"Total positions=\",positions_total)\n",
    "else:\n",
    "    print(\"Positions not found\")\n",
    " \n",
    "# shut down connection to the MetaTrader 5 terminal\n",
    "mt5.shutdown()"
   ]
  },
  {
   "cell_type": "code",
   "execution_count": null,
   "metadata": {},
   "outputs": [],
   "source": []
  }
 ],
 "metadata": {
  "kernelspec": {
   "display_name": "Python 3 (ipykernel)",
   "language": "python",
   "name": "python3"
  },
  "language_info": {
   "codemirror_mode": {
    "name": "ipython",
    "version": 3
   },
   "file_extension": ".py",
   "mimetype": "text/x-python",
   "name": "python",
   "nbconvert_exporter": "python",
   "pygments_lexer": "ipython3",
   "version": "3.10.6"
  }
 },
 "nbformat": 4,
 "nbformat_minor": 4
}
