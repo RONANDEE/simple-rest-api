{
 "cells": [
  {
   "cell_type": "code",
   "execution_count": 2,
   "id": "b3914c76-4fa6-45ae-80cb-a6b9ea835543",
   "metadata": {},
   "outputs": [],
   "source": [
    "import pandas as pd\n",
    "import json\n",
    "import requests\n",
    "import numpy as np\n",
    "import seaborn as sns\n",
    "import matplotlib.pyplot as plt\n",
    "\n",
    "%matplotlib inline\n",
    "%config InlineBackend.figure_format='retina'"
   ]
  },
  {
   "cell_type": "code",
   "execution_count": 8,
   "id": "80d3bf19",
   "metadata": {},
   "outputs": [
    {
     "name": "stdout",
     "output_type": "stream",
     "text": [
      "pandas    version: 1.4.4\n",
      "json      version: 2.0.9\n",
      "requests  version: 2.25.1\n"
     ]
    }
   ],
   "source": [
    "print(f'pandas    version: {pd.__version__}')\n",
    "print(f'json      version: {json.__version__}')\n",
    "print(f'requests  version: {requests.__version__}')"
   ]
  },
  {
   "cell_type": "code",
   "execution_count": null,
   "id": "f7046341-3f95-4004-aed9-8779f9324f4e",
   "metadata": {},
   "outputs": [],
   "source": []
  }
 ],
 "metadata": {
  "kernelspec": {
   "display_name": "Python 3 (ipykernel)",
   "language": "python",
   "name": "python3"
  },
  "language_info": {
   "codemirror_mode": {
    "name": "ipython",
    "version": 3
   },
   "file_extension": ".py",
   "mimetype": "text/x-python",
   "name": "python",
   "nbconvert_exporter": "python",
   "pygments_lexer": "ipython3",
   "version": "3.10.6"
  },
  "vscode": {
   "interpreter": {
    "hash": "d3e10ef16274dd72e574b8fa73b58450b957d8421a2901baded3cca26fcf5dda"
   }
  },
  "widgets": {
   "application/vnd.jupyter.widget-state+json": {
    "state": {},
    "version_major": 2,
    "version_minor": 0
   }
  }
 },
 "nbformat": 4,
 "nbformat_minor": 5
}
