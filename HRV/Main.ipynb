{
 "cells": [
  {
   "cell_type": "code",
   "execution_count": null,
   "metadata": {},
   "outputs": [],
   "source": [
    "import numpy as np\n",
    "import pandas as pd\n",
    "import matplotlib.pyplot as plt\n",
    "import matplotlib as mpl\n",
    "\n",
    "import pyhrv\n",
    "import pyhrv.time_domain as td\n",
    "import pyhrv.frequency_domain as fd\n",
    "\n",
    "\n",
    "import statistics\n",
    "\n"
   ]
  },
  {
   "cell_type": "code",
   "execution_count": null,
   "metadata": {},
   "outputs": [],
   "source": [
    "BP_HB = pd.read_csv('BP-Hemodynamic-beats.txt')\n",
    "BP_HB"
   ]
  },
  {
   "cell_type": "code",
   "execution_count": null,
   "metadata": {},
   "outputs": [],
   "source": [
    "BP_HB = pd.read_csv('BP-Hemodynamic-beats.txt',skiprows=7)\n",
    "BP_HB"
   ]
  },
  {
   "cell_type": "code",
   "execution_count": null,
   "metadata": {},
   "outputs": [],
   "source": [
    "BP_HB = pd.read_csv('BP-Hemodynamic-beats.txt',sep=';',skiprows=7)\n",
    "BP_HB"
   ]
  },
  {
   "cell_type": "code",
   "execution_count": null,
   "metadata": {},
   "outputs": [],
   "source": [
    "df = BP_HB\n",
    "\n",
    "# Convert DataFrame column as a list\n",
    "print(df['Time (s)'].tolist())"
   ]
  },
  {
   "cell_type": "code",
   "execution_count": 170,
   "metadata": {},
   "outputs": [
    {
     "data": {
      "text/html": [
       "<div>\n",
       "<style scoped>\n",
       "    .dataframe tbody tr th:only-of-type {\n",
       "        vertical-align: middle;\n",
       "    }\n",
       "\n",
       "    .dataframe tbody tr th {\n",
       "        vertical-align: top;\n",
       "    }\n",
       "\n",
       "    .dataframe thead th {\n",
       "        text-align: right;\n",
       "    }\n",
       "</style>\n",
       "<table border=\"1\" class=\"dataframe\">\n",
       "  <thead>\n",
       "    <tr style=\"text-align: right;\">\n",
       "      <th></th>\n",
       "      <th>Time (s)</th>\n",
       "      <th>Systolic Pressure (mmHg)</th>\n",
       "    </tr>\n",
       "  </thead>\n",
       "  <tbody>\n",
       "    <tr>\n",
       "      <th>0</th>\n",
       "      <td>5.255</td>\n",
       "      <td>0</td>\n",
       "    </tr>\n",
       "    <tr>\n",
       "      <th>1</th>\n",
       "      <td>6.370</td>\n",
       "      <td>0</td>\n",
       "    </tr>\n",
       "    <tr>\n",
       "      <th>2</th>\n",
       "      <td>7.505</td>\n",
       "      <td>0</td>\n",
       "    </tr>\n",
       "    <tr>\n",
       "      <th>3</th>\n",
       "      <td>8.610</td>\n",
       "      <td>0</td>\n",
       "    </tr>\n",
       "    <tr>\n",
       "      <th>4</th>\n",
       "      <td>9.680</td>\n",
       "      <td>0</td>\n",
       "    </tr>\n",
       "    <tr>\n",
       "      <th>...</th>\n",
       "      <td>...</td>\n",
       "      <td>...</td>\n",
       "    </tr>\n",
       "    <tr>\n",
       "      <th>966</th>\n",
       "      <td>17:22.436</td>\n",
       "      <td>106</td>\n",
       "    </tr>\n",
       "    <tr>\n",
       "      <th>967</th>\n",
       "      <td>17:23.323</td>\n",
       "      <td>109</td>\n",
       "    </tr>\n",
       "    <tr>\n",
       "      <th>968</th>\n",
       "      <td>17:24.171</td>\n",
       "      <td>112</td>\n",
       "    </tr>\n",
       "    <tr>\n",
       "      <th>969</th>\n",
       "      <td>17:25.083</td>\n",
       "      <td>115</td>\n",
       "    </tr>\n",
       "    <tr>\n",
       "      <th>970</th>\n",
       "      <td>17:25.998</td>\n",
       "      <td>117</td>\n",
       "    </tr>\n",
       "  </tbody>\n",
       "</table>\n",
       "<p>971 rows × 2 columns</p>\n",
       "</div>"
      ],
      "text/plain": [
       "      Time (s)  Systolic Pressure (mmHg)\n",
       "0        5.255                         0\n",
       "1        6.370                         0\n",
       "2        7.505                         0\n",
       "3        8.610                         0\n",
       "4        9.680                         0\n",
       "..         ...                       ...\n",
       "966  17:22.436                       106\n",
       "967  17:23.323                       109\n",
       "968  17:24.171                       112\n",
       "969  17:25.083                       115\n",
       "970  17:25.998                       117\n",
       "\n",
       "[971 rows x 2 columns]"
      ]
     },
     "execution_count": 170,
     "metadata": {},
     "output_type": "execute_result"
    }
   ],
   "source": [
    "BP_HB = pd.read_csv('BP-Hemodynamic-beats.txt',sep=';',header=5,usecols=[0,1])\n",
    "BP_HB"
   ]
  },
  {
   "cell_type": "code",
   "execution_count": null,
   "metadata": {},
   "outputs": [],
   "source": [
    "# Plotting the graph\n",
    "plt.axes(ylim=[80,150],xlabel='Time (s)',ylabel='Systolic Pressure (mmHg)')\n",
    "plt.plot(BP_HB['Time (s)'], BP_HB['Systolic Pressure (mmHg)'])\n"
   ]
  },
  {
   "cell_type": "code",
   "execution_count": null,
   "metadata": {},
   "outputs": [],
   "source": [
    "plt.plot(BP_HB['Heart rate (bpm)'])"
   ]
  },
  {
   "cell_type": "code",
   "execution_count": null,
   "metadata": {},
   "outputs": [],
   "source": [
    "def calculate_hrv(rr_intervals):\n",
    "    # Calculate the mean RR interval\n",
    "    mean_rr = statistics.mean(rr_intervals)\n",
    "\n",
    "    # Calculate the standard deviation of RR intervals\n",
    "    sdnn = statistics.stdev(rr_intervals)\n",
    "\n",
    "    # Calculate the root mean square of successive RR interval differences (RMSSD)\n",
    "    rr_diffs = [abs(rr_intervals[i] - rr_intervals[i-1]) for i in range(1, len(rr_intervals))]\n",
    "    rmssd = statistics.sqrt(statistics.mean([diff**2 for diff in rr_diffs]))\n",
    "\n",
    "    return mean_rr, sdnn, rmssd\n",
    "\n",
    "    "
   ]
  },
  {
   "cell_type": "code",
   "execution_count": null,
   "metadata": {},
   "outputs": [],
   "source": [
    "# Calculate time domain HRV metrics\n",
    "rr_intervals = BP_HB['Heart rate (bpm)']\n",
    "mean_rr, sdnn, rmssd = calculate_hrv(rr_intervals)"
   ]
  },
  {
   "cell_type": "code",
   "execution_count": null,
   "metadata": {},
   "outputs": [],
   "source": [
    "print(\"Mean RR Interval:\", mean_rr)\n",
    "print(\"SDNN:\", sdnn)\n",
    "print(\"RMSSD:\", rmssd)"
   ]
  },
  {
   "cell_type": "code",
   "execution_count": null,
   "metadata": {},
   "outputs": [],
   "source": [
    "fig = plt.figure(edgecolor=(0,0,0),linewidth=5)\n",
    "ax1 = fig.add_subplot(321,title='Heart rate (bpm)')\n",
    "ax1.plot(BP_HB['Time (s)'],BP_HB['Heart rate (bpm)'])\n",
    "ax2 = fig.add_subplot(322,title='RR Interval (ms)')\n",
    "ax2.plot(BP_HB['Pulse Interval (ms)'],'r')\n",
    "plt.show()"
   ]
  },
  {
   "cell_type": "code",
   "execution_count": null,
   "metadata": {},
   "outputs": [],
   "source": [
    "fs = 1000  # Sample rate (Hz)\n",
    "fft = np.fft.fft(rr_intervals)\n",
    "magnitude = np.abs(fft)\n",
    "frequency = np.fft.fftfreq(len(rr_intervals), 1/fs)"
   ]
  },
  {
   "cell_type": "code",
   "execution_count": null,
   "metadata": {},
   "outputs": [],
   "source": [
    "print(rr_intervals)\n",
    "result = fd.welch_psd(rr_intervals,show_param=False)\n",
    "print(result['fft_peak'])\n",
    "print(type(result['fft_peak']))"
   ]
  },
  {
   "cell_type": "code",
   "execution_count": null,
   "metadata": {},
   "outputs": [],
   "source": [
    "# Define custom frequency bands and add the ULF band\n",
    "fbands = {'ulf': (0.0, 0.1), 'vlf': (0.1, 0.2), 'lf': (0.2, 0.3), 'hf': (0.3, 0.4)}\n",
    "\n",
    "# Compute the PSD with custom frequency bands\n",
    "result = fd.welch_psd(nni, fbands=fbands)"
   ]
  },
  {
   "cell_type": "code",
   "execution_count": null,
   "metadata": {},
   "outputs": [],
   "source": [
    "# Compute Heart Rate series\n",
    "hr = pyhrv.tools.heart_rate(800)\n",
    "print(hr)"
   ]
  }
 ],
 "metadata": {
  "kernelspec": {
   "display_name": "Python 3",
   "language": "python",
   "name": "python3"
  },
  "language_info": {
   "codemirror_mode": {
    "name": "ipython",
    "version": 3
   },
   "file_extension": ".py",
   "mimetype": "text/x-python",
   "name": "python",
   "nbconvert_exporter": "python",
   "pygments_lexer": "ipython3",
   "version": "3.11.0"
  },
  "orig_nbformat": 4
 },
 "nbformat": 4,
 "nbformat_minor": 2
}
